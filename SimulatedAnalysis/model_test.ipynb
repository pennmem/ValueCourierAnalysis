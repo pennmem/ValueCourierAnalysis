{
 "cells": [
  {
   "cell_type": "code",
   "execution_count": 10,
   "id": "155802e7-5198-4fc8-9a0e-ab8c29d0eb42",
   "metadata": {},
   "outputs": [],
   "source": [
    "import sys\n",
    "sys.path.append('../../pybeh')\n",
    "import warnings\n",
    "warnings.simplefilter('ignore')\n",
    "import pandas as pd\n",
    "import numpy as np\n",
    "import cmlreaders as cml\n",
    "from SimulatedSubjectData import *\n",
    "from pandas_to_pybeh import pd_crp, get_all_matrices\n",
    "import matplotlib.pyplot as plt\n",
    "import pickle\n",
    "pd.set_option(\"display.max_columns\", None)"
   ]
  },
  {
   "cell_type": "code",
   "execution_count": 11,
   "id": "f82caec3-4fd8-45df-bb8b-f221456a8c28",
   "metadata": {},
   "outputs": [],
   "source": [
    "list_len = 15\n",
    "num_lists = 1000\n",
    "\n",
    "exp = 'CourierReinstate1'\n",
    "subjects = ['LTP564', 'LTP565', 'LTP566', 'LTP567', 'LTP568', 'LTP569', 'LTP571', 'LTP572', 'LTP573',\n",
    "            'LTP574', 'LTP575', 'LTP576', 'LTP577', 'LTP578', 'LTP579', 'LTP580', 'LTP581', 'LTP583',\n",
    "            'LTP584', 'LTP585', 'LTP586', 'LTP587', 'LTP588', 'LTP589', 'LTP590', 'LTP591', 'LTP592', \n",
    "            'LTP593', 'LTP594', 'LTP595', 'LTP596', 'LTP597', 'LTP598', 'LTP599', 'LTP600', 'LTP601', \n",
    "            'LTP602', 'LTP603', 'LTP604', 'LTP605']"
   ]
  },
  {
   "cell_type": "code",
   "execution_count": 12,
   "id": "240b1922-a26f-46da-9b20-f03cdee72469",
   "metadata": {},
   "outputs": [],
   "source": [
    "df = cml.get_data_index('ltp', rootdir='/').query(\"experiment == @exp\")\n",
    "\n",
    "full_evs = None\n",
    "for i, row in df.iterrows():\n",
    "    reader = cml.CMLReader(subject=row['subject'], experiment=row['experiment'], session=row['session'])\n",
    "    evs = reader.load('task_events')\n",
    "    full_evs = evs if full_evs is None else pd.concat([full_evs, evs], ignore_index=True)\n",
    "full_evs = full_evs.query(\"subject in @subjects\")\n",
    "full_evs = full_evs[(full_evs['item'] != \"AMPLIFIER\") & (full_evs['item'] != \"APPLE\") & (full_evs['item'] != \"AXE\") & \n",
    "                    (full_evs['item'] != \"BASKETBALL_HOOP\") & (full_evs['item'] != \"DOOR\") & (full_evs['item'] != \"IRONING_BOARD\") & \n",
    "                    (full_evs['item'] != \"SHOVEL\") & (full_evs['item'] != \"STOVE\")]"
   ]
  },
  {
   "cell_type": "code",
   "execution_count": 13,
   "id": "1edf6274-b21c-46bc-b244-9d968ee9246f",
   "metadata": {},
   "outputs": [],
   "source": [
    "with open(\"words.pkl\", \"rb\") as f:\n",
    "    wordpool = pickle.load(f)"
   ]
  },
  {
   "cell_type": "code",
   "execution_count": 14,
   "id": "8f3e193a-3a97-4c00-ac5e-3edccafbaf7f",
   "metadata": {},
   "outputs": [],
   "source": [
    "def compute_recall_rate(data):\n",
    "    word_evs = data[data['type'] == 'WORD']\n",
    "    return word_evs['recalled'].sum() / len(word_evs)\n",
    "\n",
    "def compute_first_recall(data, list_len):\n",
    "    rec_evs = data[data['type'] == 'REC_WORD']\n",
    "    rec_evs['pos'] = rec_evs.groupby(['session', 'trial']).cumcount()\n",
    "    first_recall_df = rec_evs.query('pos == 0 and serialpos >= 0')\n",
    "    first_recall_df = first_recall_df.groupby(\n",
    "        ['serialpos']).agg(\n",
    "        {'recalled': 'count'}).reindex(range(1, list_len+1), fill_value=0)\n",
    "    n_lists = first_recall_df['recalled'].sum()\n",
    "    return first_recall_df['recalled'].to_numpy(dtype=float) / n_lists\n",
    "\n",
    "def compute_lag_crp_single_subject_array(\n",
    "    data, \n",
    "    list_len\n",
    "):\n",
    "    center = list_len - 1\n",
    "    min_lag = -center\n",
    "    max_lag = center + 1\n",
    "    actual = {lag: 0 for lag in range(min_lag, max_lag)}\n",
    "    possible = {lag: 0 for lag in range(min_lag, max_lag)}\n",
    "    for session_id, session_data in data.groupby('session'):\n",
    "        recalls = session_data[session_data.type == 'REC_WORD']\n",
    "        # print(recalls)\n",
    "        words = session_data[session_data.type == 'WORD']\n",
    "        if recalls.empty or words.empty:\n",
    "            print(f\"session {session_id} has no events\")\n",
    "            continue\n",
    "        # print(recalls.intruded)\n",
    "        recalls = recalls[(recalls['trial'] != -999)]\n",
    "        word_to_pos = dict(zip(words['item'], words['serialpos']))\n",
    "        # print(word_to_pos)\n",
    "        # print(recalls)\n",
    "        for trial in recalls['trial'].unique():\n",
    "            trial_words = words[words['trial'] == trial]['item'].tolist()\n",
    "            trial_recalls = (recalls[recalls['trial'] == trial]\n",
    "                             .sort_values('rectime')\n",
    "                             .drop_duplicates('item'))\n",
    "            \n",
    "            if len(trial_recalls) < 2:\n",
    "                print(f\"session {session_id}, trial {trial} doesn't have enough events\")\n",
    "                continue\n",
    "            trial_recalls = trial_recalls[trial_recalls['item'].isin(trial_words)]\n",
    "            recall_pos = [word_to_pos[w] for w in trial_recalls['item']]\n",
    "            # print(recall_pos)\n",
    "            for i, cur in enumerate(recall_pos[:-1]):\n",
    "                lag = recall_pos[i+1] - cur\n",
    "                if min_lag <= lag <= max_lag and lag != 0:\n",
    "                    actual[lag] += 1\n",
    "                for pos in set(range(1, list_len+1)) - set(recall_pos[:i+1]):\n",
    "                    pl = pos - cur\n",
    "                    if min_lag <= pl <= max_lag and pl != 0:\n",
    "                        possible[pl] += 1\n",
    "\n",
    "    # build CRP array\n",
    "    full_len = 2*list_len - 1\n",
    "    crp = np.full(full_len, np.nan)\n",
    "    center = list_len - 1\n",
    "    for lag in range(min_lag, max_lag):\n",
    "        idx = center + lag\n",
    "        if 0 <= idx < full_len:\n",
    "            crp[idx] = (actual[lag] / possible[lag]) if possible[lag] > 0 else np.nan\n",
    "    crp[center] = 0.0\n",
    "    return crp"
   ]
  },
  {
   "cell_type": "code",
   "execution_count": 15,
   "id": "84f4e613-42e8-4bc1-bb36-0d2d0022f6cf",
   "metadata": {
    "tags": []
   },
   "outputs": [
    {
     "data": {
      "text/plain": [
       "array([0.06382979, 0.05882353, 0.04424779, 0.02898551, 0.06470588,\n",
       "       0.04102564, 0.05479452, 0.04979253, 0.07806691, 0.04895105,\n",
       "       0.06644518, 0.08196721, 0.14195584, 0.3250774 , 0.        ,\n",
       "       0.45721271, 0.20478723, 0.10670732, 0.06713781, 0.06477733,\n",
       "       0.06161137, 0.0483871 , 0.03870968, 0.02459016, 0.04081633,\n",
       "       0.05263158, 0.04081633, 0.        , 0.        ])"
      ]
     },
     "execution_count": 15,
     "metadata": {},
     "output_type": "execute_result"
    }
   ],
   "source": [
    "df595 = full_evs[full_evs['subject'] == 'LTP595']\n",
    "# compute_recall_rate(df595)\n",
    "# compute_first_recall(df595, list_len)\n",
    "crp595 = compute_lag_crp_single_subject_array(df595, list_len)\n",
    "crp595"
   ]
  },
  {
   "cell_type": "code",
   "execution_count": 16,
   "id": "c8b2b276-6a8d-42be-a395-3fd3c5987f21",
   "metadata": {
    "tags": []
   },
   "outputs": [
    {
     "name": "stdout",
     "output_type": "stream",
     "text": [
      "session 2, trial 7 doesn't have enough events\n"
     ]
    }
   ],
   "source": [
    "# CourierReinstate1 data\n",
    "sub_parameters = {}\n",
    "\n",
    "for sub in subjects:\n",
    "    df_sub = full_evs[full_evs['subject'] == sub]\n",
    "    recall_rate = compute_recall_rate(df_sub)\n",
    "    first_recall = compute_first_recall(df_sub, list_len)\n",
    "    lag_crp = compute_lag_crp_single_subject_array(df_sub, list_len)\n",
    "    sub_parameters[sub] = {\n",
    "        'recall_rate': recall_rate,\n",
    "        'first_recall': first_recall,\n",
    "        'lag_crp': lag_crp\n",
    "    }"
   ]
  },
  {
   "cell_type": "code",
   "execution_count": 17,
   "id": "44b80b80-a74a-4d9d-a2e5-1e9b2342785a",
   "metadata": {},
   "outputs": [],
   "source": [
    "import optuna\n",
    "import numpy as np\n",
    "\n",
    "def crp_loss(simulated_crp, target_crp):\n",
    "    mask = ~np.isnan(simulated_crp) & ~np.isnan(target_crp)\n",
    "    return np.mean((simulated_crp[mask] - target_crp[mask])**2)\n",
    "\n",
    "def make_objective(sub_id, sub_parameters, target_crp, list_len, num_lists, n_avg=3):\n",
    "    def objective(trial):\n",
    "        # Suggest lag_crp distribution for this subject\n",
    "        lag_crp = np.array([\n",
    "            trial.suggest_float(f\"lag_{i}\", 1e-6, 1.0)\n",
    "            for i in range(len(target_crp))\n",
    "        ])\n",
    "        lag_crp /= lag_crp.sum()  # normalize\n",
    "        print(lag_crp)\n",
    "        # Pull subject parameters\n",
    "        recall_rate = sub_parameters[sub_id]['recall_rate']\n",
    "        first_recall = sub_parameters[sub_id]['first_recall']\n",
    "\n",
    "        losses = []\n",
    "        for _ in range(n_avg):\n",
    "            sim = SimulatedSubjectData(\n",
    "                subject=sub_id,\n",
    "                first_recall=first_recall,\n",
    "                lag_crp=lag_crp,\n",
    "                recall_rate=recall_rate,\n",
    "                value_acc=0.6,     # if you use this, add to sub_parameters\n",
    "                complex_params=None,     # same here\n",
    "                seed=None\n",
    "            )\n",
    "            df = sim.generateData(list_len, num_lists, gen_pos=True)\n",
    "            sim_crp = compute_lag_crp_single_subject_array(df, list_len)\n",
    "            losses.append(crp_loss(sim_crp, target_crp))\n",
    "\n",
    "        return np.mean(losses)\n",
    "    return objective\n"
   ]
  },
  {
   "cell_type": "code",
   "execution_count": 18,
   "id": "4b55e870-63d6-4f68-bba3-94df45505f0e",
   "metadata": {},
   "outputs": [
    {
     "name": "stderr",
     "output_type": "stream",
     "text": [
      "[I 2025-09-29 10:41:00,969] A new study created in memory with name: no-name-4d7746b0-d748-49a5-b0d9-d6401695a590\n",
      "[W 2025-09-29 10:41:01,058] Trial 0 failed with parameters: {'lag_0': 0.3351049284032237, 'lag_1': 0.22981252179981246, 'lag_2': 0.701047065765901, 'lag_3': 0.5662477264264821, 'lag_4': 0.5591305159531477, 'lag_5': 0.5015079872251285, 'lag_6': 0.31125945124443755, 'lag_7': 0.8495277749740726, 'lag_8': 0.908906499797524, 'lag_9': 0.3798539856602812, 'lag_10': 0.6167349196796628, 'lag_11': 0.7259976763940551, 'lag_12': 0.9901911058562812, 'lag_13': 0.18507471084688357, 'lag_14': 0.16200857657090956, 'lag_15': 0.3182561379330872, 'lag_16': 0.2735111685873487, 'lag_17': 0.49285727185755474, 'lag_18': 0.19127264650496045, 'lag_19': 0.08975256815227611, 'lag_20': 0.07868189750682626, 'lag_21': 0.8744467435440847, 'lag_22': 0.1308410775010976, 'lag_23': 0.8689895121468862, 'lag_24': 0.7874585916103851, 'lag_25': 0.3525571672667155, 'lag_26': 0.07490362160105764, 'lag_27': 0.7304120407603154, 'lag_28': 0.8143201179811045} because of the following error: KeyError('session').\n",
      "Traceback (most recent call last):\n",
      "  File \"/usr/global/miniconda/py310_23.1.0-1/envs/workshop_311/lib/python3.11/site-packages/optuna/study/_optimize.py\", line 201, in _run_trial\n",
      "    value_or_values = func(trial)\n",
      "                      ^^^^^^^^^^^\n",
      "  File \"/tmp/ipykernel_38851/2632477090.py\", line 33, in objective\n",
      "    sim_crp = compute_lag_crp_single_subject_array(df, list_len)\n",
      "              ^^^^^^^^^^^^^^^^^^^^^^^^^^^^^^^^^^^^^^^^^^^^^^^^^^\n",
      "  File \"/tmp/ipykernel_38851/614188253.py\", line 24, in compute_lag_crp_single_subject_array\n",
      "    for session_id, session_data in data.groupby('session'):\n",
      "                                    ^^^^^^^^^^^^^^^^^^^^^^^\n",
      "  File \"/usr/global/miniconda/py310_23.1.0-1/envs/workshop_311/lib/python3.11/site-packages/pandas/core/frame.py\", line 8252, in groupby\n",
      "    return DataFrameGroupBy(\n",
      "           ^^^^^^^^^^^^^^^^^\n",
      "  File \"/usr/global/miniconda/py310_23.1.0-1/envs/workshop_311/lib/python3.11/site-packages/pandas/core/groupby/groupby.py\", line 931, in __init__\n",
      "    grouper, exclusions, obj = get_grouper(\n",
      "                               ^^^^^^^^^^^^\n",
      "  File \"/usr/global/miniconda/py310_23.1.0-1/envs/workshop_311/lib/python3.11/site-packages/pandas/core/groupby/grouper.py\", line 985, in get_grouper\n",
      "    raise KeyError(gpr)\n",
      "KeyError: 'session'\n",
      "[W 2025-09-29 10:41:01,060] Trial 0 failed with value None.\n"
     ]
    },
    {
     "name": "stdout",
     "output_type": "stream",
     "text": [
      "[0.02376518 0.01629799 0.0497173  0.04015752 0.03965277 0.03556626\n",
      " 0.0220741  0.06024735 0.06445841 0.02693873 0.043738   0.05148676\n",
      " 0.070223   0.01312525 0.01148943 0.02257029 0.01939704 0.03495277\n",
      " 0.0135648  0.00636513 0.00558001 0.06201457 0.00927907 0.06162755\n",
      " 0.05584549 0.02500287 0.00531206 0.05179983 0.05775047]\n"
     ]
    },
    {
     "ename": "KeyError",
     "evalue": "'session'",
     "output_type": "error",
     "traceback": [
      "\u001b[0;31m---------------------------------------------------------------------------\u001b[0m",
      "\u001b[0;31mKeyError\u001b[0m                                  Traceback (most recent call last)",
      "Cell \u001b[0;32mIn[18], line 8\u001b[0m\n\u001b[1;32m      6\u001b[0m study \u001b[38;5;241m=\u001b[39m optuna\u001b[38;5;241m.\u001b[39mcreate_study(direction\u001b[38;5;241m=\u001b[39m\u001b[38;5;124m\"\u001b[39m\u001b[38;5;124mminimize\u001b[39m\u001b[38;5;124m\"\u001b[39m)\n\u001b[1;32m      7\u001b[0m objective \u001b[38;5;241m=\u001b[39m make_objective(sub_id, sub_parameters, target_crp, list_len\u001b[38;5;241m=\u001b[39m\u001b[38;5;241m15\u001b[39m, num_lists\u001b[38;5;241m=\u001b[39m\u001b[38;5;241m30\u001b[39m, n_avg\u001b[38;5;241m=\u001b[39m\u001b[38;5;241m5\u001b[39m)\n\u001b[0;32m----> 8\u001b[0m \u001b[43mstudy\u001b[49m\u001b[38;5;241;43m.\u001b[39;49m\u001b[43moptimize\u001b[49m\u001b[43m(\u001b[49m\u001b[43mobjective\u001b[49m\u001b[43m,\u001b[49m\u001b[43m \u001b[49m\u001b[43mn_trials\u001b[49m\u001b[38;5;241;43m=\u001b[39;49m\u001b[38;5;241;43m100\u001b[39;49m\u001b[43m)\u001b[49m\n\u001b[1;32m     10\u001b[0m \u001b[38;5;28mprint\u001b[39m(\u001b[38;5;124m\"\u001b[39m\u001b[38;5;124mBest loss:\u001b[39m\u001b[38;5;124m\"\u001b[39m, study\u001b[38;5;241m.\u001b[39mbest_value)\n\u001b[1;32m     12\u001b[0m best_lag_crp \u001b[38;5;241m=\u001b[39m np\u001b[38;5;241m.\u001b[39marray([study\u001b[38;5;241m.\u001b[39mbest_params[\u001b[38;5;124mf\u001b[39m\u001b[38;5;124m\"\u001b[39m\u001b[38;5;124mlag_\u001b[39m\u001b[38;5;132;01m{\u001b[39;00mi\u001b[38;5;132;01m}\u001b[39;00m\u001b[38;5;124m\"\u001b[39m] \u001b[38;5;28;01mfor\u001b[39;00m i \u001b[38;5;129;01min\u001b[39;00m \u001b[38;5;28mrange\u001b[39m(\u001b[38;5;28mlen\u001b[39m(target_crp))])\n",
      "File \u001b[0;32m/usr/global/miniconda/py310_23.1.0-1/envs/workshop_311/lib/python3.11/site-packages/optuna/study/study.py:490\u001b[0m, in \u001b[0;36mStudy.optimize\u001b[0;34m(self, func, n_trials, timeout, n_jobs, catch, callbacks, gc_after_trial, show_progress_bar)\u001b[0m\n\u001b[1;32m    388\u001b[0m \u001b[38;5;28;01mdef\u001b[39;00m \u001b[38;5;21moptimize\u001b[39m(\n\u001b[1;32m    389\u001b[0m     \u001b[38;5;28mself\u001b[39m,\n\u001b[1;32m    390\u001b[0m     func: ObjectiveFuncType,\n\u001b[0;32m   (...)\u001b[0m\n\u001b[1;32m    397\u001b[0m     show_progress_bar: \u001b[38;5;28mbool\u001b[39m \u001b[38;5;241m=\u001b[39m \u001b[38;5;28;01mFalse\u001b[39;00m,\n\u001b[1;32m    398\u001b[0m ) \u001b[38;5;241m-\u001b[39m\u001b[38;5;241m>\u001b[39m \u001b[38;5;28;01mNone\u001b[39;00m:\n\u001b[1;32m    399\u001b[0m \u001b[38;5;250m    \u001b[39m\u001b[38;5;124;03m\"\"\"Optimize an objective function.\u001b[39;00m\n\u001b[1;32m    400\u001b[0m \n\u001b[1;32m    401\u001b[0m \u001b[38;5;124;03m    Optimization is done by choosing a suitable set of hyperparameter values from a given\u001b[39;00m\n\u001b[0;32m   (...)\u001b[0m\n\u001b[1;32m    488\u001b[0m \u001b[38;5;124;03m            If nested invocation of this method occurs.\u001b[39;00m\n\u001b[1;32m    489\u001b[0m \u001b[38;5;124;03m    \"\"\"\u001b[39;00m\n\u001b[0;32m--> 490\u001b[0m     \u001b[43m_optimize\u001b[49m\u001b[43m(\u001b[49m\n\u001b[1;32m    491\u001b[0m \u001b[43m        \u001b[49m\u001b[43mstudy\u001b[49m\u001b[38;5;241;43m=\u001b[39;49m\u001b[38;5;28;43mself\u001b[39;49m\u001b[43m,\u001b[49m\n\u001b[1;32m    492\u001b[0m \u001b[43m        \u001b[49m\u001b[43mfunc\u001b[49m\u001b[38;5;241;43m=\u001b[39;49m\u001b[43mfunc\u001b[49m\u001b[43m,\u001b[49m\n\u001b[1;32m    493\u001b[0m \u001b[43m        \u001b[49m\u001b[43mn_trials\u001b[49m\u001b[38;5;241;43m=\u001b[39;49m\u001b[43mn_trials\u001b[49m\u001b[43m,\u001b[49m\n\u001b[1;32m    494\u001b[0m \u001b[43m        \u001b[49m\u001b[43mtimeout\u001b[49m\u001b[38;5;241;43m=\u001b[39;49m\u001b[43mtimeout\u001b[49m\u001b[43m,\u001b[49m\n\u001b[1;32m    495\u001b[0m \u001b[43m        \u001b[49m\u001b[43mn_jobs\u001b[49m\u001b[38;5;241;43m=\u001b[39;49m\u001b[43mn_jobs\u001b[49m\u001b[43m,\u001b[49m\n\u001b[1;32m    496\u001b[0m \u001b[43m        \u001b[49m\u001b[43mcatch\u001b[49m\u001b[38;5;241;43m=\u001b[39;49m\u001b[38;5;28;43mtuple\u001b[39;49m\u001b[43m(\u001b[49m\u001b[43mcatch\u001b[49m\u001b[43m)\u001b[49m\u001b[43m \u001b[49m\u001b[38;5;28;43;01mif\u001b[39;49;00m\u001b[43m \u001b[49m\u001b[38;5;28;43misinstance\u001b[39;49m\u001b[43m(\u001b[49m\u001b[43mcatch\u001b[49m\u001b[43m,\u001b[49m\u001b[43m \u001b[49m\u001b[43mIterable\u001b[49m\u001b[43m)\u001b[49m\u001b[43m \u001b[49m\u001b[38;5;28;43;01melse\u001b[39;49;00m\u001b[43m \u001b[49m\u001b[43m(\u001b[49m\u001b[43mcatch\u001b[49m\u001b[43m,\u001b[49m\u001b[43m)\u001b[49m\u001b[43m,\u001b[49m\n\u001b[1;32m    497\u001b[0m \u001b[43m        \u001b[49m\u001b[43mcallbacks\u001b[49m\u001b[38;5;241;43m=\u001b[39;49m\u001b[43mcallbacks\u001b[49m\u001b[43m,\u001b[49m\n\u001b[1;32m    498\u001b[0m \u001b[43m        \u001b[49m\u001b[43mgc_after_trial\u001b[49m\u001b[38;5;241;43m=\u001b[39;49m\u001b[43mgc_after_trial\u001b[49m\u001b[43m,\u001b[49m\n\u001b[1;32m    499\u001b[0m \u001b[43m        \u001b[49m\u001b[43mshow_progress_bar\u001b[49m\u001b[38;5;241;43m=\u001b[39;49m\u001b[43mshow_progress_bar\u001b[49m\u001b[43m,\u001b[49m\n\u001b[1;32m    500\u001b[0m \u001b[43m    \u001b[49m\u001b[43m)\u001b[49m\n",
      "File \u001b[0;32m/usr/global/miniconda/py310_23.1.0-1/envs/workshop_311/lib/python3.11/site-packages/optuna/study/_optimize.py:63\u001b[0m, in \u001b[0;36m_optimize\u001b[0;34m(study, func, n_trials, timeout, n_jobs, catch, callbacks, gc_after_trial, show_progress_bar)\u001b[0m\n\u001b[1;32m     61\u001b[0m \u001b[38;5;28;01mtry\u001b[39;00m:\n\u001b[1;32m     62\u001b[0m     \u001b[38;5;28;01mif\u001b[39;00m n_jobs \u001b[38;5;241m==\u001b[39m \u001b[38;5;241m1\u001b[39m:\n\u001b[0;32m---> 63\u001b[0m         \u001b[43m_optimize_sequential\u001b[49m\u001b[43m(\u001b[49m\n\u001b[1;32m     64\u001b[0m \u001b[43m            \u001b[49m\u001b[43mstudy\u001b[49m\u001b[43m,\u001b[49m\n\u001b[1;32m     65\u001b[0m \u001b[43m            \u001b[49m\u001b[43mfunc\u001b[49m\u001b[43m,\u001b[49m\n\u001b[1;32m     66\u001b[0m \u001b[43m            \u001b[49m\u001b[43mn_trials\u001b[49m\u001b[43m,\u001b[49m\n\u001b[1;32m     67\u001b[0m \u001b[43m            \u001b[49m\u001b[43mtimeout\u001b[49m\u001b[43m,\u001b[49m\n\u001b[1;32m     68\u001b[0m \u001b[43m            \u001b[49m\u001b[43mcatch\u001b[49m\u001b[43m,\u001b[49m\n\u001b[1;32m     69\u001b[0m \u001b[43m            \u001b[49m\u001b[43mcallbacks\u001b[49m\u001b[43m,\u001b[49m\n\u001b[1;32m     70\u001b[0m \u001b[43m            \u001b[49m\u001b[43mgc_after_trial\u001b[49m\u001b[43m,\u001b[49m\n\u001b[1;32m     71\u001b[0m \u001b[43m            \u001b[49m\u001b[43mreseed_sampler_rng\u001b[49m\u001b[38;5;241;43m=\u001b[39;49m\u001b[38;5;28;43;01mFalse\u001b[39;49;00m\u001b[43m,\u001b[49m\n\u001b[1;32m     72\u001b[0m \u001b[43m            \u001b[49m\u001b[43mtime_start\u001b[49m\u001b[38;5;241;43m=\u001b[39;49m\u001b[38;5;28;43;01mNone\u001b[39;49;00m\u001b[43m,\u001b[49m\n\u001b[1;32m     73\u001b[0m \u001b[43m            \u001b[49m\u001b[43mprogress_bar\u001b[49m\u001b[38;5;241;43m=\u001b[39;49m\u001b[43mprogress_bar\u001b[49m\u001b[43m,\u001b[49m\n\u001b[1;32m     74\u001b[0m \u001b[43m        \u001b[49m\u001b[43m)\u001b[49m\n\u001b[1;32m     75\u001b[0m     \u001b[38;5;28;01melse\u001b[39;00m:\n\u001b[1;32m     76\u001b[0m         \u001b[38;5;28;01mif\u001b[39;00m n_jobs \u001b[38;5;241m==\u001b[39m \u001b[38;5;241m-\u001b[39m\u001b[38;5;241m1\u001b[39m:\n",
      "File \u001b[0;32m/usr/global/miniconda/py310_23.1.0-1/envs/workshop_311/lib/python3.11/site-packages/optuna/study/_optimize.py:160\u001b[0m, in \u001b[0;36m_optimize_sequential\u001b[0;34m(study, func, n_trials, timeout, catch, callbacks, gc_after_trial, reseed_sampler_rng, time_start, progress_bar)\u001b[0m\n\u001b[1;32m    157\u001b[0m         \u001b[38;5;28;01mbreak\u001b[39;00m\n\u001b[1;32m    159\u001b[0m \u001b[38;5;28;01mtry\u001b[39;00m:\n\u001b[0;32m--> 160\u001b[0m     frozen_trial_id \u001b[38;5;241m=\u001b[39m \u001b[43m_run_trial\u001b[49m\u001b[43m(\u001b[49m\u001b[43mstudy\u001b[49m\u001b[43m,\u001b[49m\u001b[43m \u001b[49m\u001b[43mfunc\u001b[49m\u001b[43m,\u001b[49m\u001b[43m \u001b[49m\u001b[43mcatch\u001b[49m\u001b[43m)\u001b[49m\n\u001b[1;32m    161\u001b[0m \u001b[38;5;28;01mfinally\u001b[39;00m:\n\u001b[1;32m    162\u001b[0m     \u001b[38;5;66;03m# The following line mitigates memory problems that can be occurred in some\u001b[39;00m\n\u001b[1;32m    163\u001b[0m     \u001b[38;5;66;03m# environments (e.g., services that use computing containers such as GitHub Actions).\u001b[39;00m\n\u001b[1;32m    164\u001b[0m     \u001b[38;5;66;03m# Please refer to the following PR for further details:\u001b[39;00m\n\u001b[1;32m    165\u001b[0m     \u001b[38;5;66;03m# https://github.com/optuna/optuna/pull/325.\u001b[39;00m\n\u001b[1;32m    166\u001b[0m     \u001b[38;5;28;01mif\u001b[39;00m gc_after_trial:\n",
      "File \u001b[0;32m/usr/global/miniconda/py310_23.1.0-1/envs/workshop_311/lib/python3.11/site-packages/optuna/study/_optimize.py:258\u001b[0m, in \u001b[0;36m_run_trial\u001b[0;34m(study, func, catch)\u001b[0m\n\u001b[1;32m    251\u001b[0m         \u001b[38;5;28;01massert\u001b[39;00m \u001b[38;5;28;01mFalse\u001b[39;00m, \u001b[38;5;124m\"\u001b[39m\u001b[38;5;124mShould not reach.\u001b[39m\u001b[38;5;124m\"\u001b[39m\n\u001b[1;32m    253\u001b[0m \u001b[38;5;28;01mif\u001b[39;00m (\n\u001b[1;32m    254\u001b[0m     updated_state \u001b[38;5;241m==\u001b[39m TrialState\u001b[38;5;241m.\u001b[39mFAIL\n\u001b[1;32m    255\u001b[0m     \u001b[38;5;129;01mand\u001b[39;00m func_err \u001b[38;5;129;01mis\u001b[39;00m \u001b[38;5;129;01mnot\u001b[39;00m \u001b[38;5;28;01mNone\u001b[39;00m\n\u001b[1;32m    256\u001b[0m     \u001b[38;5;129;01mand\u001b[39;00m \u001b[38;5;129;01mnot\u001b[39;00m \u001b[38;5;28misinstance\u001b[39m(func_err, catch)\n\u001b[1;32m    257\u001b[0m ):\n\u001b[0;32m--> 258\u001b[0m     \u001b[38;5;28;01mraise\u001b[39;00m func_err\n\u001b[1;32m    259\u001b[0m \u001b[38;5;28;01mreturn\u001b[39;00m trial\u001b[38;5;241m.\u001b[39m_trial_id\n",
      "File \u001b[0;32m/usr/global/miniconda/py310_23.1.0-1/envs/workshop_311/lib/python3.11/site-packages/optuna/study/_optimize.py:201\u001b[0m, in \u001b[0;36m_run_trial\u001b[0;34m(study, func, catch)\u001b[0m\n\u001b[1;32m    199\u001b[0m \u001b[38;5;28;01mwith\u001b[39;00m get_heartbeat_thread(trial\u001b[38;5;241m.\u001b[39m_trial_id, study\u001b[38;5;241m.\u001b[39m_storage):\n\u001b[1;32m    200\u001b[0m     \u001b[38;5;28;01mtry\u001b[39;00m:\n\u001b[0;32m--> 201\u001b[0m         value_or_values \u001b[38;5;241m=\u001b[39m \u001b[43mfunc\u001b[49m\u001b[43m(\u001b[49m\u001b[43mtrial\u001b[49m\u001b[43m)\u001b[49m\n\u001b[1;32m    202\u001b[0m     \u001b[38;5;28;01mexcept\u001b[39;00m exceptions\u001b[38;5;241m.\u001b[39mTrialPruned \u001b[38;5;28;01mas\u001b[39;00m e:\n\u001b[1;32m    203\u001b[0m         \u001b[38;5;66;03m# TODO(mamu): Handle multi-objective cases.\u001b[39;00m\n\u001b[1;32m    204\u001b[0m         state \u001b[38;5;241m=\u001b[39m TrialState\u001b[38;5;241m.\u001b[39mPRUNED\n",
      "Cell \u001b[0;32mIn[17], line 33\u001b[0m, in \u001b[0;36mmake_objective.<locals>.objective\u001b[0;34m(trial)\u001b[0m\n\u001b[1;32m     23\u001b[0m     sim \u001b[38;5;241m=\u001b[39m SimulatedSubjectData(\n\u001b[1;32m     24\u001b[0m         subject\u001b[38;5;241m=\u001b[39msub_id,\n\u001b[1;32m     25\u001b[0m         first_recall\u001b[38;5;241m=\u001b[39mfirst_recall,\n\u001b[0;32m   (...)\u001b[0m\n\u001b[1;32m     30\u001b[0m         seed\u001b[38;5;241m=\u001b[39m\u001b[38;5;28;01mNone\u001b[39;00m\n\u001b[1;32m     31\u001b[0m     )\n\u001b[1;32m     32\u001b[0m     df \u001b[38;5;241m=\u001b[39m sim\u001b[38;5;241m.\u001b[39mgenerateData(list_len, num_lists, gen_pos\u001b[38;5;241m=\u001b[39m\u001b[38;5;28;01mTrue\u001b[39;00m)\n\u001b[0;32m---> 33\u001b[0m     sim_crp \u001b[38;5;241m=\u001b[39m \u001b[43mcompute_lag_crp_single_subject_array\u001b[49m\u001b[43m(\u001b[49m\u001b[43mdf\u001b[49m\u001b[43m,\u001b[49m\u001b[43m \u001b[49m\u001b[43mlist_len\u001b[49m\u001b[43m)\u001b[49m\n\u001b[1;32m     34\u001b[0m     losses\u001b[38;5;241m.\u001b[39mappend(crp_loss(sim_crp, target_crp))\n\u001b[1;32m     36\u001b[0m \u001b[38;5;28;01mreturn\u001b[39;00m np\u001b[38;5;241m.\u001b[39mmean(losses)\n",
      "Cell \u001b[0;32mIn[14], line 24\u001b[0m, in \u001b[0;36mcompute_lag_crp_single_subject_array\u001b[0;34m(data, list_len)\u001b[0m\n\u001b[1;32m     22\u001b[0m actual \u001b[38;5;241m=\u001b[39m {lag: \u001b[38;5;241m0\u001b[39m \u001b[38;5;28;01mfor\u001b[39;00m lag \u001b[38;5;129;01min\u001b[39;00m \u001b[38;5;28mrange\u001b[39m(min_lag, max_lag)}\n\u001b[1;32m     23\u001b[0m possible \u001b[38;5;241m=\u001b[39m {lag: \u001b[38;5;241m0\u001b[39m \u001b[38;5;28;01mfor\u001b[39;00m lag \u001b[38;5;129;01min\u001b[39;00m \u001b[38;5;28mrange\u001b[39m(min_lag, max_lag)}\n\u001b[0;32m---> 24\u001b[0m \u001b[38;5;28;01mfor\u001b[39;00m session_id, session_data \u001b[38;5;129;01min\u001b[39;00m \u001b[43mdata\u001b[49m\u001b[38;5;241;43m.\u001b[39;49m\u001b[43mgroupby\u001b[49m\u001b[43m(\u001b[49m\u001b[38;5;124;43m'\u001b[39;49m\u001b[38;5;124;43msession\u001b[39;49m\u001b[38;5;124;43m'\u001b[39;49m\u001b[43m)\u001b[49m:\n\u001b[1;32m     25\u001b[0m     recalls \u001b[38;5;241m=\u001b[39m session_data[session_data\u001b[38;5;241m.\u001b[39mtype \u001b[38;5;241m==\u001b[39m \u001b[38;5;124m'\u001b[39m\u001b[38;5;124mREC_WORD\u001b[39m\u001b[38;5;124m'\u001b[39m]\n\u001b[1;32m     26\u001b[0m     \u001b[38;5;66;03m# print(recalls)\u001b[39;00m\n",
      "File \u001b[0;32m/usr/global/miniconda/py310_23.1.0-1/envs/workshop_311/lib/python3.11/site-packages/pandas/core/frame.py:8252\u001b[0m, in \u001b[0;36mDataFrame.groupby\u001b[0;34m(self, by, axis, level, as_index, sort, group_keys, observed, dropna)\u001b[0m\n\u001b[1;32m   8249\u001b[0m     \u001b[38;5;28;01mraise\u001b[39;00m \u001b[38;5;167;01mTypeError\u001b[39;00m(\u001b[38;5;124m\"\u001b[39m\u001b[38;5;124mYou have to supply one of \u001b[39m\u001b[38;5;124m'\u001b[39m\u001b[38;5;124mby\u001b[39m\u001b[38;5;124m'\u001b[39m\u001b[38;5;124m and \u001b[39m\u001b[38;5;124m'\u001b[39m\u001b[38;5;124mlevel\u001b[39m\u001b[38;5;124m'\u001b[39m\u001b[38;5;124m\"\u001b[39m)\n\u001b[1;32m   8250\u001b[0m axis \u001b[38;5;241m=\u001b[39m \u001b[38;5;28mself\u001b[39m\u001b[38;5;241m.\u001b[39m_get_axis_number(axis)\n\u001b[0;32m-> 8252\u001b[0m \u001b[38;5;28;01mreturn\u001b[39;00m \u001b[43mDataFrameGroupBy\u001b[49m\u001b[43m(\u001b[49m\n\u001b[1;32m   8253\u001b[0m \u001b[43m    \u001b[49m\u001b[43mobj\u001b[49m\u001b[38;5;241;43m=\u001b[39;49m\u001b[38;5;28;43mself\u001b[39;49m\u001b[43m,\u001b[49m\n\u001b[1;32m   8254\u001b[0m \u001b[43m    \u001b[49m\u001b[43mkeys\u001b[49m\u001b[38;5;241;43m=\u001b[39;49m\u001b[43mby\u001b[49m\u001b[43m,\u001b[49m\n\u001b[1;32m   8255\u001b[0m \u001b[43m    \u001b[49m\u001b[43maxis\u001b[49m\u001b[38;5;241;43m=\u001b[39;49m\u001b[43maxis\u001b[49m\u001b[43m,\u001b[49m\n\u001b[1;32m   8256\u001b[0m \u001b[43m    \u001b[49m\u001b[43mlevel\u001b[49m\u001b[38;5;241;43m=\u001b[39;49m\u001b[43mlevel\u001b[49m\u001b[43m,\u001b[49m\n\u001b[1;32m   8257\u001b[0m \u001b[43m    \u001b[49m\u001b[43mas_index\u001b[49m\u001b[38;5;241;43m=\u001b[39;49m\u001b[43mas_index\u001b[49m\u001b[43m,\u001b[49m\n\u001b[1;32m   8258\u001b[0m \u001b[43m    \u001b[49m\u001b[43msort\u001b[49m\u001b[38;5;241;43m=\u001b[39;49m\u001b[43msort\u001b[49m\u001b[43m,\u001b[49m\n\u001b[1;32m   8259\u001b[0m \u001b[43m    \u001b[49m\u001b[43mgroup_keys\u001b[49m\u001b[38;5;241;43m=\u001b[39;49m\u001b[43mgroup_keys\u001b[49m\u001b[43m,\u001b[49m\n\u001b[1;32m   8260\u001b[0m \u001b[43m    \u001b[49m\u001b[43mobserved\u001b[49m\u001b[38;5;241;43m=\u001b[39;49m\u001b[43mobserved\u001b[49m\u001b[43m,\u001b[49m\n\u001b[1;32m   8261\u001b[0m \u001b[43m    \u001b[49m\u001b[43mdropna\u001b[49m\u001b[38;5;241;43m=\u001b[39;49m\u001b[43mdropna\u001b[49m\u001b[43m,\u001b[49m\n\u001b[1;32m   8262\u001b[0m \u001b[43m\u001b[49m\u001b[43m)\u001b[49m\n",
      "File \u001b[0;32m/usr/global/miniconda/py310_23.1.0-1/envs/workshop_311/lib/python3.11/site-packages/pandas/core/groupby/groupby.py:931\u001b[0m, in \u001b[0;36mGroupBy.__init__\u001b[0;34m(self, obj, keys, axis, level, grouper, exclusions, selection, as_index, sort, group_keys, observed, dropna)\u001b[0m\n\u001b[1;32m    928\u001b[0m \u001b[38;5;28mself\u001b[39m\u001b[38;5;241m.\u001b[39mdropna \u001b[38;5;241m=\u001b[39m dropna\n\u001b[1;32m    930\u001b[0m \u001b[38;5;28;01mif\u001b[39;00m grouper \u001b[38;5;129;01mis\u001b[39;00m \u001b[38;5;28;01mNone\u001b[39;00m:\n\u001b[0;32m--> 931\u001b[0m     grouper, exclusions, obj \u001b[38;5;241m=\u001b[39m \u001b[43mget_grouper\u001b[49m\u001b[43m(\u001b[49m\n\u001b[1;32m    932\u001b[0m \u001b[43m        \u001b[49m\u001b[43mobj\u001b[49m\u001b[43m,\u001b[49m\n\u001b[1;32m    933\u001b[0m \u001b[43m        \u001b[49m\u001b[43mkeys\u001b[49m\u001b[43m,\u001b[49m\n\u001b[1;32m    934\u001b[0m \u001b[43m        \u001b[49m\u001b[43maxis\u001b[49m\u001b[38;5;241;43m=\u001b[39;49m\u001b[43maxis\u001b[49m\u001b[43m,\u001b[49m\n\u001b[1;32m    935\u001b[0m \u001b[43m        \u001b[49m\u001b[43mlevel\u001b[49m\u001b[38;5;241;43m=\u001b[39;49m\u001b[43mlevel\u001b[49m\u001b[43m,\u001b[49m\n\u001b[1;32m    936\u001b[0m \u001b[43m        \u001b[49m\u001b[43msort\u001b[49m\u001b[38;5;241;43m=\u001b[39;49m\u001b[43msort\u001b[49m\u001b[43m,\u001b[49m\n\u001b[1;32m    937\u001b[0m \u001b[43m        \u001b[49m\u001b[43mobserved\u001b[49m\u001b[38;5;241;43m=\u001b[39;49m\u001b[43mobserved\u001b[49m\u001b[43m,\u001b[49m\n\u001b[1;32m    938\u001b[0m \u001b[43m        \u001b[49m\u001b[43mdropna\u001b[49m\u001b[38;5;241;43m=\u001b[39;49m\u001b[38;5;28;43mself\u001b[39;49m\u001b[38;5;241;43m.\u001b[39;49m\u001b[43mdropna\u001b[49m\u001b[43m,\u001b[49m\n\u001b[1;32m    939\u001b[0m \u001b[43m    \u001b[49m\u001b[43m)\u001b[49m\n\u001b[1;32m    941\u001b[0m \u001b[38;5;28mself\u001b[39m\u001b[38;5;241m.\u001b[39mobj \u001b[38;5;241m=\u001b[39m obj\n\u001b[1;32m    942\u001b[0m \u001b[38;5;28mself\u001b[39m\u001b[38;5;241m.\u001b[39maxis \u001b[38;5;241m=\u001b[39m obj\u001b[38;5;241m.\u001b[39m_get_axis_number(axis)\n",
      "File \u001b[0;32m/usr/global/miniconda/py310_23.1.0-1/envs/workshop_311/lib/python3.11/site-packages/pandas/core/groupby/grouper.py:985\u001b[0m, in \u001b[0;36mget_grouper\u001b[0;34m(obj, key, axis, level, sort, observed, validate, dropna)\u001b[0m\n\u001b[1;32m    983\u001b[0m         in_axis, level, gpr \u001b[38;5;241m=\u001b[39m \u001b[38;5;28;01mFalse\u001b[39;00m, gpr, \u001b[38;5;28;01mNone\u001b[39;00m\n\u001b[1;32m    984\u001b[0m     \u001b[38;5;28;01melse\u001b[39;00m:\n\u001b[0;32m--> 985\u001b[0m         \u001b[38;5;28;01mraise\u001b[39;00m \u001b[38;5;167;01mKeyError\u001b[39;00m(gpr)\n\u001b[1;32m    986\u001b[0m \u001b[38;5;28;01melif\u001b[39;00m \u001b[38;5;28misinstance\u001b[39m(gpr, Grouper) \u001b[38;5;129;01mand\u001b[39;00m gpr\u001b[38;5;241m.\u001b[39mkey \u001b[38;5;129;01mis\u001b[39;00m \u001b[38;5;129;01mnot\u001b[39;00m \u001b[38;5;28;01mNone\u001b[39;00m:\n\u001b[1;32m    987\u001b[0m     \u001b[38;5;66;03m# Add key to exclusions\u001b[39;00m\n\u001b[1;32m    988\u001b[0m     exclusions\u001b[38;5;241m.\u001b[39madd(gpr\u001b[38;5;241m.\u001b[39mkey)\n",
      "\u001b[0;31mKeyError\u001b[0m: 'session'"
     ]
    }
   ],
   "source": [
    "# Example: pick a subject\n",
    "sub_id = subjects[0]\n",
    "target_crp = sub_parameters[sub_id]['lag_crp']  # empirical CRP\n",
    "\n",
    "# Create Optuna study\n",
    "study = optuna.create_study(direction=\"minimize\")\n",
    "objective = make_objective(sub_id, sub_parameters, target_crp, list_len=15, num_lists=30, n_avg=5)\n",
    "study.optimize(objective, n_trials=100)\n",
    "\n",
    "print(\"Best loss:\", study.best_value)\n",
    "\n",
    "best_lag_crp = np.array([study.best_params[f\"lag_{i}\"] for i in range(len(target_crp))])\n",
    "best_lag_crp /= best_lag_crp.sum()\n",
    "print(\"Best lag_crp distribution:\", best_lag_crp)\n"
   ]
  },
  {
   "cell_type": "code",
   "execution_count": 19,
   "id": "2f6dd454-f000-4f5a-ae97-55722f99fd44",
   "metadata": {},
   "outputs": [
    {
     "name": "stderr",
     "output_type": "stream",
     "text": [
      "[I 2025-09-29 10:41:27,814] A new study created in memory with name: no-name-0ab37670-6c6f-4ecd-aa09-72333732ec62\n",
      "[W 2025-09-29 10:41:28,017] Trial 0 failed with parameters: {'lag_0': 0.1644524028541934, 'lag_1': 0.8615258254382522, 'lag_2': 0.8264433203766354, 'lag_3': 0.42388402985046103, 'lag_4': 0.07128425926827085, 'lag_5': 0.7485794252419353, 'lag_6': 0.8436651517293269, 'lag_7': 0.5124572744425689, 'lag_8': 0.8155438165575044, 'lag_9': 0.9256983587242497, 'lag_10': 0.8841974526517897, 'lag_11': 0.31208045287930597, 'lag_12': 0.09064592302457865, 'lag_13': 0.5979484713356218, 'lag_14': 0.22914739377017262, 'lag_15': 0.8469405564428352, 'lag_16': 0.2724902498926321, 'lag_17': 0.07207430042728331, 'lag_18': 0.1608217282423759, 'lag_19': 0.7178968953897817, 'lag_20': 0.9456500309751311, 'lag_21': 0.9889190759484273, 'lag_22': 0.738074153509126, 'lag_23': 0.32534458115361936, 'lag_24': 0.6977095011638981, 'lag_25': 0.9788227246305353, 'lag_26': 0.6498142212547211, 'lag_27': 0.21340561934986804, 'lag_28': 0.10830714091454635} because of the following error: KeyError('session').\n",
      "Traceback (most recent call last):\n",
      "  File \"/usr/global/miniconda/py310_23.1.0-1/envs/workshop_311/lib/python3.11/site-packages/optuna/study/_optimize.py\", line 201, in _run_trial\n",
      "    value_or_values = func(trial)\n",
      "                      ^^^^^^^^^^^\n",
      "  File \"/tmp/ipykernel_38851/2632477090.py\", line 33, in objective\n",
      "    sim_crp = compute_lag_crp_single_subject_array(df, list_len)\n",
      "              ^^^^^^^^^^^^^^^^^^^^^^^^^^^^^^^^^^^^^^^^^^^^^^^^^^\n",
      "  File \"/tmp/ipykernel_38851/614188253.py\", line 24, in compute_lag_crp_single_subject_array\n",
      "    for session_id, session_data in data.groupby('session'):\n",
      "                                    ^^^^^^^^^^^^^^^^^^^^^^^\n",
      "  File \"/usr/global/miniconda/py310_23.1.0-1/envs/workshop_311/lib/python3.11/site-packages/pandas/core/frame.py\", line 8252, in groupby\n",
      "    return DataFrameGroupBy(\n",
      "           ^^^^^^^^^^^^^^^^^\n",
      "  File \"/usr/global/miniconda/py310_23.1.0-1/envs/workshop_311/lib/python3.11/site-packages/pandas/core/groupby/groupby.py\", line 931, in __init__\n",
      "    grouper, exclusions, obj = get_grouper(\n",
      "                               ^^^^^^^^^^^^\n",
      "  File \"/usr/global/miniconda/py310_23.1.0-1/envs/workshop_311/lib/python3.11/site-packages/pandas/core/groupby/grouper.py\", line 985, in get_grouper\n",
      "    raise KeyError(gpr)\n",
      "KeyError: 'session'\n",
      "[W 2025-09-29 10:41:28,018] Trial 0 failed with value None.\n"
     ]
    },
    {
     "name": "stdout",
     "output_type": "stream",
     "text": [
      "[0.01026299 0.05376531 0.05157591 0.02645336 0.00444864 0.04671665\n",
      " 0.05265067 0.03198096 0.0508957  0.05777013 0.05518018 0.01947603\n",
      " 0.00565695 0.03731621 0.01430042 0.05285508 0.01700532 0.00449795\n",
      " 0.01003641 0.04480185 0.05901525 0.06171555 0.04606105 0.0203038\n",
      " 0.04354201 0.06108546 0.040553   0.01331802 0.00675913]\n"
     ]
    },
    {
     "ename": "KeyError",
     "evalue": "'session'",
     "output_type": "error",
     "traceback": [
      "\u001b[0;31m---------------------------------------------------------------------------\u001b[0m",
      "\u001b[0;31mKeyError\u001b[0m                                  Traceback (most recent call last)",
      "Cell \u001b[0;32mIn[19], line 7\u001b[0m\n\u001b[1;32m      5\u001b[0m study \u001b[38;5;241m=\u001b[39m optuna\u001b[38;5;241m.\u001b[39mcreate_study(direction\u001b[38;5;241m=\u001b[39m\u001b[38;5;124m\"\u001b[39m\u001b[38;5;124mminimize\u001b[39m\u001b[38;5;124m\"\u001b[39m)\n\u001b[1;32m      6\u001b[0m objective \u001b[38;5;241m=\u001b[39m make_objective(sub_id, sub_parameters, target_crp, list_len\u001b[38;5;241m=\u001b[39m\u001b[38;5;241m24\u001b[39m, num_lists\u001b[38;5;241m=\u001b[39m\u001b[38;5;241m30\u001b[39m, n_avg\u001b[38;5;241m=\u001b[39m\u001b[38;5;241m5\u001b[39m)\n\u001b[0;32m----> 7\u001b[0m \u001b[43mstudy\u001b[49m\u001b[38;5;241;43m.\u001b[39;49m\u001b[43moptimize\u001b[49m\u001b[43m(\u001b[49m\u001b[43mobjective\u001b[49m\u001b[43m,\u001b[49m\u001b[43m \u001b[49m\u001b[43mn_trials\u001b[49m\u001b[38;5;241;43m=\u001b[39;49m\u001b[38;5;241;43m100\u001b[39;49m\u001b[43m)\u001b[49m\n\u001b[1;32m      9\u001b[0m best_lag_crp \u001b[38;5;241m=\u001b[39m np\u001b[38;5;241m.\u001b[39marray([study\u001b[38;5;241m.\u001b[39mbest_params[\u001b[38;5;124mf\u001b[39m\u001b[38;5;124m\"\u001b[39m\u001b[38;5;124mlag_\u001b[39m\u001b[38;5;132;01m{\u001b[39;00mi\u001b[38;5;132;01m}\u001b[39;00m\u001b[38;5;124m\"\u001b[39m] \u001b[38;5;28;01mfor\u001b[39;00m i \u001b[38;5;129;01min\u001b[39;00m \u001b[38;5;28mrange\u001b[39m(\u001b[38;5;28mlen\u001b[39m(target_crp))])\n\u001b[1;32m     10\u001b[0m best_lag_crp \u001b[38;5;241m/\u001b[39m\u001b[38;5;241m=\u001b[39m best_lag_crp\u001b[38;5;241m.\u001b[39msum()\n",
      "File \u001b[0;32m/usr/global/miniconda/py310_23.1.0-1/envs/workshop_311/lib/python3.11/site-packages/optuna/study/study.py:490\u001b[0m, in \u001b[0;36mStudy.optimize\u001b[0;34m(self, func, n_trials, timeout, n_jobs, catch, callbacks, gc_after_trial, show_progress_bar)\u001b[0m\n\u001b[1;32m    388\u001b[0m \u001b[38;5;28;01mdef\u001b[39;00m \u001b[38;5;21moptimize\u001b[39m(\n\u001b[1;32m    389\u001b[0m     \u001b[38;5;28mself\u001b[39m,\n\u001b[1;32m    390\u001b[0m     func: ObjectiveFuncType,\n\u001b[0;32m   (...)\u001b[0m\n\u001b[1;32m    397\u001b[0m     show_progress_bar: \u001b[38;5;28mbool\u001b[39m \u001b[38;5;241m=\u001b[39m \u001b[38;5;28;01mFalse\u001b[39;00m,\n\u001b[1;32m    398\u001b[0m ) \u001b[38;5;241m-\u001b[39m\u001b[38;5;241m>\u001b[39m \u001b[38;5;28;01mNone\u001b[39;00m:\n\u001b[1;32m    399\u001b[0m \u001b[38;5;250m    \u001b[39m\u001b[38;5;124;03m\"\"\"Optimize an objective function.\u001b[39;00m\n\u001b[1;32m    400\u001b[0m \n\u001b[1;32m    401\u001b[0m \u001b[38;5;124;03m    Optimization is done by choosing a suitable set of hyperparameter values from a given\u001b[39;00m\n\u001b[0;32m   (...)\u001b[0m\n\u001b[1;32m    488\u001b[0m \u001b[38;5;124;03m            If nested invocation of this method occurs.\u001b[39;00m\n\u001b[1;32m    489\u001b[0m \u001b[38;5;124;03m    \"\"\"\u001b[39;00m\n\u001b[0;32m--> 490\u001b[0m     \u001b[43m_optimize\u001b[49m\u001b[43m(\u001b[49m\n\u001b[1;32m    491\u001b[0m \u001b[43m        \u001b[49m\u001b[43mstudy\u001b[49m\u001b[38;5;241;43m=\u001b[39;49m\u001b[38;5;28;43mself\u001b[39;49m\u001b[43m,\u001b[49m\n\u001b[1;32m    492\u001b[0m \u001b[43m        \u001b[49m\u001b[43mfunc\u001b[49m\u001b[38;5;241;43m=\u001b[39;49m\u001b[43mfunc\u001b[49m\u001b[43m,\u001b[49m\n\u001b[1;32m    493\u001b[0m \u001b[43m        \u001b[49m\u001b[43mn_trials\u001b[49m\u001b[38;5;241;43m=\u001b[39;49m\u001b[43mn_trials\u001b[49m\u001b[43m,\u001b[49m\n\u001b[1;32m    494\u001b[0m \u001b[43m        \u001b[49m\u001b[43mtimeout\u001b[49m\u001b[38;5;241;43m=\u001b[39;49m\u001b[43mtimeout\u001b[49m\u001b[43m,\u001b[49m\n\u001b[1;32m    495\u001b[0m \u001b[43m        \u001b[49m\u001b[43mn_jobs\u001b[49m\u001b[38;5;241;43m=\u001b[39;49m\u001b[43mn_jobs\u001b[49m\u001b[43m,\u001b[49m\n\u001b[1;32m    496\u001b[0m \u001b[43m        \u001b[49m\u001b[43mcatch\u001b[49m\u001b[38;5;241;43m=\u001b[39;49m\u001b[38;5;28;43mtuple\u001b[39;49m\u001b[43m(\u001b[49m\u001b[43mcatch\u001b[49m\u001b[43m)\u001b[49m\u001b[43m \u001b[49m\u001b[38;5;28;43;01mif\u001b[39;49;00m\u001b[43m \u001b[49m\u001b[38;5;28;43misinstance\u001b[39;49m\u001b[43m(\u001b[49m\u001b[43mcatch\u001b[49m\u001b[43m,\u001b[49m\u001b[43m \u001b[49m\u001b[43mIterable\u001b[49m\u001b[43m)\u001b[49m\u001b[43m \u001b[49m\u001b[38;5;28;43;01melse\u001b[39;49;00m\u001b[43m \u001b[49m\u001b[43m(\u001b[49m\u001b[43mcatch\u001b[49m\u001b[43m,\u001b[49m\u001b[43m)\u001b[49m\u001b[43m,\u001b[49m\n\u001b[1;32m    497\u001b[0m \u001b[43m        \u001b[49m\u001b[43mcallbacks\u001b[49m\u001b[38;5;241;43m=\u001b[39;49m\u001b[43mcallbacks\u001b[49m\u001b[43m,\u001b[49m\n\u001b[1;32m    498\u001b[0m \u001b[43m        \u001b[49m\u001b[43mgc_after_trial\u001b[49m\u001b[38;5;241;43m=\u001b[39;49m\u001b[43mgc_after_trial\u001b[49m\u001b[43m,\u001b[49m\n\u001b[1;32m    499\u001b[0m \u001b[43m        \u001b[49m\u001b[43mshow_progress_bar\u001b[49m\u001b[38;5;241;43m=\u001b[39;49m\u001b[43mshow_progress_bar\u001b[49m\u001b[43m,\u001b[49m\n\u001b[1;32m    500\u001b[0m \u001b[43m    \u001b[49m\u001b[43m)\u001b[49m\n",
      "File \u001b[0;32m/usr/global/miniconda/py310_23.1.0-1/envs/workshop_311/lib/python3.11/site-packages/optuna/study/_optimize.py:63\u001b[0m, in \u001b[0;36m_optimize\u001b[0;34m(study, func, n_trials, timeout, n_jobs, catch, callbacks, gc_after_trial, show_progress_bar)\u001b[0m\n\u001b[1;32m     61\u001b[0m \u001b[38;5;28;01mtry\u001b[39;00m:\n\u001b[1;32m     62\u001b[0m     \u001b[38;5;28;01mif\u001b[39;00m n_jobs \u001b[38;5;241m==\u001b[39m \u001b[38;5;241m1\u001b[39m:\n\u001b[0;32m---> 63\u001b[0m         \u001b[43m_optimize_sequential\u001b[49m\u001b[43m(\u001b[49m\n\u001b[1;32m     64\u001b[0m \u001b[43m            \u001b[49m\u001b[43mstudy\u001b[49m\u001b[43m,\u001b[49m\n\u001b[1;32m     65\u001b[0m \u001b[43m            \u001b[49m\u001b[43mfunc\u001b[49m\u001b[43m,\u001b[49m\n\u001b[1;32m     66\u001b[0m \u001b[43m            \u001b[49m\u001b[43mn_trials\u001b[49m\u001b[43m,\u001b[49m\n\u001b[1;32m     67\u001b[0m \u001b[43m            \u001b[49m\u001b[43mtimeout\u001b[49m\u001b[43m,\u001b[49m\n\u001b[1;32m     68\u001b[0m \u001b[43m            \u001b[49m\u001b[43mcatch\u001b[49m\u001b[43m,\u001b[49m\n\u001b[1;32m     69\u001b[0m \u001b[43m            \u001b[49m\u001b[43mcallbacks\u001b[49m\u001b[43m,\u001b[49m\n\u001b[1;32m     70\u001b[0m \u001b[43m            \u001b[49m\u001b[43mgc_after_trial\u001b[49m\u001b[43m,\u001b[49m\n\u001b[1;32m     71\u001b[0m \u001b[43m            \u001b[49m\u001b[43mreseed_sampler_rng\u001b[49m\u001b[38;5;241;43m=\u001b[39;49m\u001b[38;5;28;43;01mFalse\u001b[39;49;00m\u001b[43m,\u001b[49m\n\u001b[1;32m     72\u001b[0m \u001b[43m            \u001b[49m\u001b[43mtime_start\u001b[49m\u001b[38;5;241;43m=\u001b[39;49m\u001b[38;5;28;43;01mNone\u001b[39;49;00m\u001b[43m,\u001b[49m\n\u001b[1;32m     73\u001b[0m \u001b[43m            \u001b[49m\u001b[43mprogress_bar\u001b[49m\u001b[38;5;241;43m=\u001b[39;49m\u001b[43mprogress_bar\u001b[49m\u001b[43m,\u001b[49m\n\u001b[1;32m     74\u001b[0m \u001b[43m        \u001b[49m\u001b[43m)\u001b[49m\n\u001b[1;32m     75\u001b[0m     \u001b[38;5;28;01melse\u001b[39;00m:\n\u001b[1;32m     76\u001b[0m         \u001b[38;5;28;01mif\u001b[39;00m n_jobs \u001b[38;5;241m==\u001b[39m \u001b[38;5;241m-\u001b[39m\u001b[38;5;241m1\u001b[39m:\n",
      "File \u001b[0;32m/usr/global/miniconda/py310_23.1.0-1/envs/workshop_311/lib/python3.11/site-packages/optuna/study/_optimize.py:160\u001b[0m, in \u001b[0;36m_optimize_sequential\u001b[0;34m(study, func, n_trials, timeout, catch, callbacks, gc_after_trial, reseed_sampler_rng, time_start, progress_bar)\u001b[0m\n\u001b[1;32m    157\u001b[0m         \u001b[38;5;28;01mbreak\u001b[39;00m\n\u001b[1;32m    159\u001b[0m \u001b[38;5;28;01mtry\u001b[39;00m:\n\u001b[0;32m--> 160\u001b[0m     frozen_trial_id \u001b[38;5;241m=\u001b[39m \u001b[43m_run_trial\u001b[49m\u001b[43m(\u001b[49m\u001b[43mstudy\u001b[49m\u001b[43m,\u001b[49m\u001b[43m \u001b[49m\u001b[43mfunc\u001b[49m\u001b[43m,\u001b[49m\u001b[43m \u001b[49m\u001b[43mcatch\u001b[49m\u001b[43m)\u001b[49m\n\u001b[1;32m    161\u001b[0m \u001b[38;5;28;01mfinally\u001b[39;00m:\n\u001b[1;32m    162\u001b[0m     \u001b[38;5;66;03m# The following line mitigates memory problems that can be occurred in some\u001b[39;00m\n\u001b[1;32m    163\u001b[0m     \u001b[38;5;66;03m# environments (e.g., services that use computing containers such as GitHub Actions).\u001b[39;00m\n\u001b[1;32m    164\u001b[0m     \u001b[38;5;66;03m# Please refer to the following PR for further details:\u001b[39;00m\n\u001b[1;32m    165\u001b[0m     \u001b[38;5;66;03m# https://github.com/optuna/optuna/pull/325.\u001b[39;00m\n\u001b[1;32m    166\u001b[0m     \u001b[38;5;28;01mif\u001b[39;00m gc_after_trial:\n",
      "File \u001b[0;32m/usr/global/miniconda/py310_23.1.0-1/envs/workshop_311/lib/python3.11/site-packages/optuna/study/_optimize.py:258\u001b[0m, in \u001b[0;36m_run_trial\u001b[0;34m(study, func, catch)\u001b[0m\n\u001b[1;32m    251\u001b[0m         \u001b[38;5;28;01massert\u001b[39;00m \u001b[38;5;28;01mFalse\u001b[39;00m, \u001b[38;5;124m\"\u001b[39m\u001b[38;5;124mShould not reach.\u001b[39m\u001b[38;5;124m\"\u001b[39m\n\u001b[1;32m    253\u001b[0m \u001b[38;5;28;01mif\u001b[39;00m (\n\u001b[1;32m    254\u001b[0m     updated_state \u001b[38;5;241m==\u001b[39m TrialState\u001b[38;5;241m.\u001b[39mFAIL\n\u001b[1;32m    255\u001b[0m     \u001b[38;5;129;01mand\u001b[39;00m func_err \u001b[38;5;129;01mis\u001b[39;00m \u001b[38;5;129;01mnot\u001b[39;00m \u001b[38;5;28;01mNone\u001b[39;00m\n\u001b[1;32m    256\u001b[0m     \u001b[38;5;129;01mand\u001b[39;00m \u001b[38;5;129;01mnot\u001b[39;00m \u001b[38;5;28misinstance\u001b[39m(func_err, catch)\n\u001b[1;32m    257\u001b[0m ):\n\u001b[0;32m--> 258\u001b[0m     \u001b[38;5;28;01mraise\u001b[39;00m func_err\n\u001b[1;32m    259\u001b[0m \u001b[38;5;28;01mreturn\u001b[39;00m trial\u001b[38;5;241m.\u001b[39m_trial_id\n",
      "File \u001b[0;32m/usr/global/miniconda/py310_23.1.0-1/envs/workshop_311/lib/python3.11/site-packages/optuna/study/_optimize.py:201\u001b[0m, in \u001b[0;36m_run_trial\u001b[0;34m(study, func, catch)\u001b[0m\n\u001b[1;32m    199\u001b[0m \u001b[38;5;28;01mwith\u001b[39;00m get_heartbeat_thread(trial\u001b[38;5;241m.\u001b[39m_trial_id, study\u001b[38;5;241m.\u001b[39m_storage):\n\u001b[1;32m    200\u001b[0m     \u001b[38;5;28;01mtry\u001b[39;00m:\n\u001b[0;32m--> 201\u001b[0m         value_or_values \u001b[38;5;241m=\u001b[39m \u001b[43mfunc\u001b[49m\u001b[43m(\u001b[49m\u001b[43mtrial\u001b[49m\u001b[43m)\u001b[49m\n\u001b[1;32m    202\u001b[0m     \u001b[38;5;28;01mexcept\u001b[39;00m exceptions\u001b[38;5;241m.\u001b[39mTrialPruned \u001b[38;5;28;01mas\u001b[39;00m e:\n\u001b[1;32m    203\u001b[0m         \u001b[38;5;66;03m# TODO(mamu): Handle multi-objective cases.\u001b[39;00m\n\u001b[1;32m    204\u001b[0m         state \u001b[38;5;241m=\u001b[39m TrialState\u001b[38;5;241m.\u001b[39mPRUNED\n",
      "Cell \u001b[0;32mIn[17], line 33\u001b[0m, in \u001b[0;36mmake_objective.<locals>.objective\u001b[0;34m(trial)\u001b[0m\n\u001b[1;32m     23\u001b[0m     sim \u001b[38;5;241m=\u001b[39m SimulatedSubjectData(\n\u001b[1;32m     24\u001b[0m         subject\u001b[38;5;241m=\u001b[39msub_id,\n\u001b[1;32m     25\u001b[0m         first_recall\u001b[38;5;241m=\u001b[39mfirst_recall,\n\u001b[0;32m   (...)\u001b[0m\n\u001b[1;32m     30\u001b[0m         seed\u001b[38;5;241m=\u001b[39m\u001b[38;5;28;01mNone\u001b[39;00m\n\u001b[1;32m     31\u001b[0m     )\n\u001b[1;32m     32\u001b[0m     df \u001b[38;5;241m=\u001b[39m sim\u001b[38;5;241m.\u001b[39mgenerateData(list_len, num_lists, gen_pos\u001b[38;5;241m=\u001b[39m\u001b[38;5;28;01mTrue\u001b[39;00m)\n\u001b[0;32m---> 33\u001b[0m     sim_crp \u001b[38;5;241m=\u001b[39m \u001b[43mcompute_lag_crp_single_subject_array\u001b[49m\u001b[43m(\u001b[49m\u001b[43mdf\u001b[49m\u001b[43m,\u001b[49m\u001b[43m \u001b[49m\u001b[43mlist_len\u001b[49m\u001b[43m)\u001b[49m\n\u001b[1;32m     34\u001b[0m     losses\u001b[38;5;241m.\u001b[39mappend(crp_loss(sim_crp, target_crp))\n\u001b[1;32m     36\u001b[0m \u001b[38;5;28;01mreturn\u001b[39;00m np\u001b[38;5;241m.\u001b[39mmean(losses)\n",
      "Cell \u001b[0;32mIn[14], line 24\u001b[0m, in \u001b[0;36mcompute_lag_crp_single_subject_array\u001b[0;34m(data, list_len)\u001b[0m\n\u001b[1;32m     22\u001b[0m actual \u001b[38;5;241m=\u001b[39m {lag: \u001b[38;5;241m0\u001b[39m \u001b[38;5;28;01mfor\u001b[39;00m lag \u001b[38;5;129;01min\u001b[39;00m \u001b[38;5;28mrange\u001b[39m(min_lag, max_lag)}\n\u001b[1;32m     23\u001b[0m possible \u001b[38;5;241m=\u001b[39m {lag: \u001b[38;5;241m0\u001b[39m \u001b[38;5;28;01mfor\u001b[39;00m lag \u001b[38;5;129;01min\u001b[39;00m \u001b[38;5;28mrange\u001b[39m(min_lag, max_lag)}\n\u001b[0;32m---> 24\u001b[0m \u001b[38;5;28;01mfor\u001b[39;00m session_id, session_data \u001b[38;5;129;01min\u001b[39;00m \u001b[43mdata\u001b[49m\u001b[38;5;241;43m.\u001b[39;49m\u001b[43mgroupby\u001b[49m\u001b[43m(\u001b[49m\u001b[38;5;124;43m'\u001b[39;49m\u001b[38;5;124;43msession\u001b[39;49m\u001b[38;5;124;43m'\u001b[39;49m\u001b[43m)\u001b[49m:\n\u001b[1;32m     25\u001b[0m     recalls \u001b[38;5;241m=\u001b[39m session_data[session_data\u001b[38;5;241m.\u001b[39mtype \u001b[38;5;241m==\u001b[39m \u001b[38;5;124m'\u001b[39m\u001b[38;5;124mREC_WORD\u001b[39m\u001b[38;5;124m'\u001b[39m]\n\u001b[1;32m     26\u001b[0m     \u001b[38;5;66;03m# print(recalls)\u001b[39;00m\n",
      "File \u001b[0;32m/usr/global/miniconda/py310_23.1.0-1/envs/workshop_311/lib/python3.11/site-packages/pandas/core/frame.py:8252\u001b[0m, in \u001b[0;36mDataFrame.groupby\u001b[0;34m(self, by, axis, level, as_index, sort, group_keys, observed, dropna)\u001b[0m\n\u001b[1;32m   8249\u001b[0m     \u001b[38;5;28;01mraise\u001b[39;00m \u001b[38;5;167;01mTypeError\u001b[39;00m(\u001b[38;5;124m\"\u001b[39m\u001b[38;5;124mYou have to supply one of \u001b[39m\u001b[38;5;124m'\u001b[39m\u001b[38;5;124mby\u001b[39m\u001b[38;5;124m'\u001b[39m\u001b[38;5;124m and \u001b[39m\u001b[38;5;124m'\u001b[39m\u001b[38;5;124mlevel\u001b[39m\u001b[38;5;124m'\u001b[39m\u001b[38;5;124m\"\u001b[39m)\n\u001b[1;32m   8250\u001b[0m axis \u001b[38;5;241m=\u001b[39m \u001b[38;5;28mself\u001b[39m\u001b[38;5;241m.\u001b[39m_get_axis_number(axis)\n\u001b[0;32m-> 8252\u001b[0m \u001b[38;5;28;01mreturn\u001b[39;00m \u001b[43mDataFrameGroupBy\u001b[49m\u001b[43m(\u001b[49m\n\u001b[1;32m   8253\u001b[0m \u001b[43m    \u001b[49m\u001b[43mobj\u001b[49m\u001b[38;5;241;43m=\u001b[39;49m\u001b[38;5;28;43mself\u001b[39;49m\u001b[43m,\u001b[49m\n\u001b[1;32m   8254\u001b[0m \u001b[43m    \u001b[49m\u001b[43mkeys\u001b[49m\u001b[38;5;241;43m=\u001b[39;49m\u001b[43mby\u001b[49m\u001b[43m,\u001b[49m\n\u001b[1;32m   8255\u001b[0m \u001b[43m    \u001b[49m\u001b[43maxis\u001b[49m\u001b[38;5;241;43m=\u001b[39;49m\u001b[43maxis\u001b[49m\u001b[43m,\u001b[49m\n\u001b[1;32m   8256\u001b[0m \u001b[43m    \u001b[49m\u001b[43mlevel\u001b[49m\u001b[38;5;241;43m=\u001b[39;49m\u001b[43mlevel\u001b[49m\u001b[43m,\u001b[49m\n\u001b[1;32m   8257\u001b[0m \u001b[43m    \u001b[49m\u001b[43mas_index\u001b[49m\u001b[38;5;241;43m=\u001b[39;49m\u001b[43mas_index\u001b[49m\u001b[43m,\u001b[49m\n\u001b[1;32m   8258\u001b[0m \u001b[43m    \u001b[49m\u001b[43msort\u001b[49m\u001b[38;5;241;43m=\u001b[39;49m\u001b[43msort\u001b[49m\u001b[43m,\u001b[49m\n\u001b[1;32m   8259\u001b[0m \u001b[43m    \u001b[49m\u001b[43mgroup_keys\u001b[49m\u001b[38;5;241;43m=\u001b[39;49m\u001b[43mgroup_keys\u001b[49m\u001b[43m,\u001b[49m\n\u001b[1;32m   8260\u001b[0m \u001b[43m    \u001b[49m\u001b[43mobserved\u001b[49m\u001b[38;5;241;43m=\u001b[39;49m\u001b[43mobserved\u001b[49m\u001b[43m,\u001b[49m\n\u001b[1;32m   8261\u001b[0m \u001b[43m    \u001b[49m\u001b[43mdropna\u001b[49m\u001b[38;5;241;43m=\u001b[39;49m\u001b[43mdropna\u001b[49m\u001b[43m,\u001b[49m\n\u001b[1;32m   8262\u001b[0m \u001b[43m\u001b[49m\u001b[43m)\u001b[49m\n",
      "File \u001b[0;32m/usr/global/miniconda/py310_23.1.0-1/envs/workshop_311/lib/python3.11/site-packages/pandas/core/groupby/groupby.py:931\u001b[0m, in \u001b[0;36mGroupBy.__init__\u001b[0;34m(self, obj, keys, axis, level, grouper, exclusions, selection, as_index, sort, group_keys, observed, dropna)\u001b[0m\n\u001b[1;32m    928\u001b[0m \u001b[38;5;28mself\u001b[39m\u001b[38;5;241m.\u001b[39mdropna \u001b[38;5;241m=\u001b[39m dropna\n\u001b[1;32m    930\u001b[0m \u001b[38;5;28;01mif\u001b[39;00m grouper \u001b[38;5;129;01mis\u001b[39;00m \u001b[38;5;28;01mNone\u001b[39;00m:\n\u001b[0;32m--> 931\u001b[0m     grouper, exclusions, obj \u001b[38;5;241m=\u001b[39m \u001b[43mget_grouper\u001b[49m\u001b[43m(\u001b[49m\n\u001b[1;32m    932\u001b[0m \u001b[43m        \u001b[49m\u001b[43mobj\u001b[49m\u001b[43m,\u001b[49m\n\u001b[1;32m    933\u001b[0m \u001b[43m        \u001b[49m\u001b[43mkeys\u001b[49m\u001b[43m,\u001b[49m\n\u001b[1;32m    934\u001b[0m \u001b[43m        \u001b[49m\u001b[43maxis\u001b[49m\u001b[38;5;241;43m=\u001b[39;49m\u001b[43maxis\u001b[49m\u001b[43m,\u001b[49m\n\u001b[1;32m    935\u001b[0m \u001b[43m        \u001b[49m\u001b[43mlevel\u001b[49m\u001b[38;5;241;43m=\u001b[39;49m\u001b[43mlevel\u001b[49m\u001b[43m,\u001b[49m\n\u001b[1;32m    936\u001b[0m \u001b[43m        \u001b[49m\u001b[43msort\u001b[49m\u001b[38;5;241;43m=\u001b[39;49m\u001b[43msort\u001b[49m\u001b[43m,\u001b[49m\n\u001b[1;32m    937\u001b[0m \u001b[43m        \u001b[49m\u001b[43mobserved\u001b[49m\u001b[38;5;241;43m=\u001b[39;49m\u001b[43mobserved\u001b[49m\u001b[43m,\u001b[49m\n\u001b[1;32m    938\u001b[0m \u001b[43m        \u001b[49m\u001b[43mdropna\u001b[49m\u001b[38;5;241;43m=\u001b[39;49m\u001b[38;5;28;43mself\u001b[39;49m\u001b[38;5;241;43m.\u001b[39;49m\u001b[43mdropna\u001b[49m\u001b[43m,\u001b[49m\n\u001b[1;32m    939\u001b[0m \u001b[43m    \u001b[49m\u001b[43m)\u001b[49m\n\u001b[1;32m    941\u001b[0m \u001b[38;5;28mself\u001b[39m\u001b[38;5;241m.\u001b[39mobj \u001b[38;5;241m=\u001b[39m obj\n\u001b[1;32m    942\u001b[0m \u001b[38;5;28mself\u001b[39m\u001b[38;5;241m.\u001b[39maxis \u001b[38;5;241m=\u001b[39m obj\u001b[38;5;241m.\u001b[39m_get_axis_number(axis)\n",
      "File \u001b[0;32m/usr/global/miniconda/py310_23.1.0-1/envs/workshop_311/lib/python3.11/site-packages/pandas/core/groupby/grouper.py:985\u001b[0m, in \u001b[0;36mget_grouper\u001b[0;34m(obj, key, axis, level, sort, observed, validate, dropna)\u001b[0m\n\u001b[1;32m    983\u001b[0m         in_axis, level, gpr \u001b[38;5;241m=\u001b[39m \u001b[38;5;28;01mFalse\u001b[39;00m, gpr, \u001b[38;5;28;01mNone\u001b[39;00m\n\u001b[1;32m    984\u001b[0m     \u001b[38;5;28;01melse\u001b[39;00m:\n\u001b[0;32m--> 985\u001b[0m         \u001b[38;5;28;01mraise\u001b[39;00m \u001b[38;5;167;01mKeyError\u001b[39;00m(gpr)\n\u001b[1;32m    986\u001b[0m \u001b[38;5;28;01melif\u001b[39;00m \u001b[38;5;28misinstance\u001b[39m(gpr, Grouper) \u001b[38;5;129;01mand\u001b[39;00m gpr\u001b[38;5;241m.\u001b[39mkey \u001b[38;5;129;01mis\u001b[39;00m \u001b[38;5;129;01mnot\u001b[39;00m \u001b[38;5;28;01mNone\u001b[39;00m:\n\u001b[1;32m    987\u001b[0m     \u001b[38;5;66;03m# Add key to exclusions\u001b[39;00m\n\u001b[1;32m    988\u001b[0m     exclusions\u001b[38;5;241m.\u001b[39madd(gpr\u001b[38;5;241m.\u001b[39mkey)\n",
      "\u001b[0;31mKeyError\u001b[0m: 'session'"
     ]
    }
   ],
   "source": [
    "results = {}\n",
    "\n",
    "for sub_id in subjects:\n",
    "    target_crp = sub_parameters[sub_id]['lag_crp']\n",
    "    study = optuna.create_study(direction=\"minimize\")\n",
    "    objective = make_objective(sub_id, sub_parameters, target_crp, list_len=24, num_lists=30, n_avg=5)\n",
    "    study.optimize(objective, n_trials=100)\n",
    "\n",
    "    best_lag_crp = np.array([study.best_params[f\"lag_{i}\"] for i in range(len(target_crp))])\n",
    "    best_lag_crp /= best_lag_crp.sum()\n",
    "\n",
    "    results[sub_id] = {\n",
    "        \"best_loss\": study.best_value,\n",
    "        \"best_lag_crp\": best_lag_crp\n",
    "    }\n"
   ]
  },
  {
   "cell_type": "code",
   "execution_count": null,
   "id": "dbc0aba9-7743-4c1f-8483-b09feddd0853",
   "metadata": {},
   "outputs": [],
   "source": [
    "# Simulated data\n",
    "\n",
    "sim_dfs = {}\n",
    "\n",
    "for sub, parameters in sub_parameters.items():\n",
    "    sim = SimulatedSubjectData(\n",
    "        subject=sub,\n",
    "        first_recall=parameters['first_recall'],\n",
    "        lag_crp=parameters['lag_crp'],\n",
    "        recall_rate=parameters['recall_rate'],\n",
    "        value_acc=0.6\n",
    "    )\n",
    "    df_sim = sim.generateData(list_len, num_lists, gen_pos=True)\n",
    "    sim_dfs[sub] = df_sim"
   ]
  },
  {
   "cell_type": "code",
   "execution_count": null,
   "id": "acc77d3c-6fe9-40bb-a310-ae1a06077906",
   "metadata": {},
   "outputs": [],
   "source": [
    "sim_crps = {}\n",
    "\n",
    "for sub, df_sim in sim_dfs.items():\n",
    "    sim_crps[sub] = compute_lag_crp_single_subject_array(df_sub, list_len)"
   ]
  },
  {
   "cell_type": "code",
   "execution_count": null,
   "id": "093a5f2e-d28d-40a8-9faf-5983a36bc667",
   "metadata": {},
   "outputs": [],
   "source": [
    "fig, axes = plt.subplots(nrows=5, ncols=8, figsize=(24, 12.5), sharex=True, sharey=True)\n",
    "axes = axes.flatten()\n",
    "\n",
    "lags = np.arange(-(list_len-1), list_len)\n",
    "mask = lags != 0\n",
    "lags = lags[mask]\n",
    "\n",
    "for ax, sub in zip(axes, sub_parameters.keys()):\n",
    "    cr1_sub_crp = sub_parameters[sub]['lag_crp'][mask]\n",
    "    sim_sub_crp = sim_crps.get(sub)\n",
    "    if sim_sub_crp is not None:\n",
    "        sim_sub_crp = sim_sub_crp[mask]\n",
    "        ax.plot(lags, cr1_sub_crp, label=\"CourierReinstate1\")\n",
    "        ax.plot(lags, sim_sub_crp, linestyle=\"--\", label=\"Simulated\")\n",
    "    ax.set_title(str(sub), fontsize=10)\n",
    "    ax.tick_params(labelsize=8)\n",
    "\n",
    "fig.suptitle(\"CR1 vs Simulated Lag CRPs\", fontsize=16)\n",
    "handles, labels = axes[0].get_legend_handles_labels()\n",
    "fig.legend(handles, labels, loc=\"upper right\")\n",
    "plt.tight_layout()\n",
    "plt.show()"
   ]
  },
  {
   "cell_type": "code",
   "execution_count": null,
   "id": "df1f86b8-c7b5-4e99-a221-238d95453afc",
   "metadata": {},
   "outputs": [],
   "source": [
    "cr1_all_crp = None\n",
    "sim_all_crp = None\n",
    "cr1_stack = np.vstack([sub_parameters[sub]['lag_crp'] for sub in sub_parameters])\n",
    "sim_stack = np.vstack([sim_crps.get(sub) for sub in sub_parameters if sub in sim_crps])\n",
    "cr1_all_crp = cr1_stack.mean(axis=0)\n",
    "sim_all_crp = sim_stack.mean(axis=0)\n",
    "\n",
    "lags = np.arange(-(list_len-1), list_len)\n",
    "mask = lags != 0\n",
    "lags = lags[mask]\n",
    "\n",
    "plt.figure(figsize=(8, 6))\n",
    "plt.plot(lags, cr1_all_crp[mask], label=\"CourierReinstate1\")\n",
    "plt.plot(lags, sim_all_crp[mask], linestyle=\"--\", label=\"Simulated\")\n",
    "plt.xlabel('Lag')\n",
    "plt.ylabel('Conditional Response Probability')\n",
    "plt.title('Across Subjects Average Lag CRP')\n",
    "plt.legend()\n",
    "plt.tight_layout()\n",
    "plt.show()"
   ]
  },
  {
   "cell_type": "code",
   "execution_count": null,
   "id": "4dc27262-1536-431c-978a-bb0e91dcbd9f",
   "metadata": {},
   "outputs": [],
   "source": [
    "errors = {}\n",
    "lags = np.arange(-(list_len-1), list_len)\n",
    "mask = lags != 0\n",
    "lags = lags[mask]\n",
    "        \n",
    "for sub in sub_parameters.keys():\n",
    "    if sub in sim_crps:\n",
    "        cr1_sub_crp = sub_parameters[sub]['lag_crp'][mask]\n",
    "        sim_sub_crp = sim_crps.get(sub)\n",
    "        if sim_sub_crp is not None:\n",
    "            sim_sub_crp = sim_sub_crp[mask]\n",
    "        errors[sub] = np.sqrt(((cr1_sub_crp - sim_sub_crp) ** 2).mean())\n",
    "    \n",
    "errors"
   ]
  },
  {
   "cell_type": "code",
   "execution_count": null,
   "id": "48f5ff36-9a70-46c2-a13e-27402fc3227e",
   "metadata": {},
   "outputs": [],
   "source": [
    "avg_error = np.nanmean(list(errors.values()))\n",
    "avg_error"
   ]
  },
  {
   "cell_type": "code",
   "execution_count": null,
   "id": "5e13a394-d52a-496b-9b1a-b26acf319882",
   "metadata": {},
   "outputs": [],
   "source": [
    "results = {}\n",
    "\n",
    "for sub_id in subjects:\n",
    "    target_crp = sub_parameters[sub_id]['lag_crp']\n",
    "    study = optuna.create_study(direction=\"minimize\")\n",
    "    objective = make_objective(sub_id, sub_parameters, target_crp, list_len=24, num_lists=30, n_avg=5)\n",
    "    study.optimize(objective, n_trials=100)\n",
    "\n",
    "    best_lag_crp = np.array([study.best_params[f\"lag_{i}\"] for i in range(len(target_crp))])\n",
    "    best_lag_crp /= best_lag_crp.sum()\n",
    "\n",
    "    results[sub_id] = {\n",
    "        \"best_loss\": study.best_value,\n",
    "        \"best_lag_crp\": best_lag_crp\n",
    "    }\n"
   ]
  }
 ],
 "metadata": {
  "kernelspec": {
   "display_name": "workshop_311",
   "language": "python",
   "name": "workshop_311"
  },
  "language_info": {
   "codemirror_mode": {
    "name": "ipython",
    "version": 3
   },
   "file_extension": ".py",
   "mimetype": "text/x-python",
   "name": "python",
   "nbconvert_exporter": "python",
   "pygments_lexer": "ipython3",
   "version": "3.11.5"
  }
 },
 "nbformat": 4,
 "nbformat_minor": 5
}
