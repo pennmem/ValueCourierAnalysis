{
 "cells": [
  {
   "cell_type": "code",
   "execution_count": 23,
   "id": "155802e7-5198-4fc8-9a0e-ab8c29d0eb42",
   "metadata": {},
   "outputs": [],
   "source": [
    "import sys\n",
    "sys.path.append('../../pybeh')\n",
    "import warnings\n",
    "warnings.simplefilter('ignore')\n",
    "import pandas as pd\n",
    "import numpy as np\n",
    "import cmlreaders as cml\n",
    "from SimulatedSubjectData import *\n",
    "from pandas_to_pybeh import pd_crp, get_all_matrices\n",
    "import matplotlib.pyplot as plt\n",
    "import pickle\n",
    "pd.set_option(\"display.max_columns\", None)"
   ]
  },
  {
   "cell_type": "code",
   "execution_count": 24,
   "id": "f82caec3-4fd8-45df-bb8b-f221456a8c28",
   "metadata": {},
   "outputs": [],
   "source": [
    "value_acc = 0.6\n",
    "list_len = 15\n",
    "num_lists = 1000\n",
    "\n",
    "exp = 'CourierReinstate1'\n",
    "subjects = ['LTP564', 'LTP565', 'LTP566', 'LTP567', 'LTP568', 'LTP569', 'LTP571', 'LTP572', 'LTP573',\n",
    "            'LTP574', 'LTP575', 'LTP576', 'LTP577', 'LTP578', 'LTP579', 'LTP580', 'LTP581', 'LTP583',\n",
    "            'LTP584', 'LTP585', 'LTP586', 'LTP587', 'LTP588', 'LTP589', 'LTP590', 'LTP591', 'LTP592', \n",
    "            'LTP593', 'LTP594', 'LTP595', 'LTP596', 'LTP597', 'LTP598', 'LTP599', 'LTP600', 'LTP601', \n",
    "            'LTP602', 'LTP603', 'LTP604', 'LTP605']"
   ]
  },
  {
   "cell_type": "code",
   "execution_count": 25,
   "id": "240b1922-a26f-46da-9b20-f03cdee72469",
   "metadata": {},
   "outputs": [],
   "source": [
    "df = cml.get_data_index('ltp', rootdir='/').query(\"experiment == @exp\")\n",
    "\n",
    "full_evs = None\n",
    "for i, row in df.iterrows():\n",
    "    reader = cml.CMLReader(subject=row['subject'], experiment=row['experiment'], session=row['session'])\n",
    "    evs = reader.load('task_events')\n",
    "    full_evs = evs if full_evs is None else pd.concat([full_evs, evs], ignore_index=True)\n",
    "full_evs = full_evs.query(\"subject in @subjects\")\n",
    "full_evs = full_evs[(full_evs['item'] != \"AMPLIFIER\") & (full_evs['item'] != \"APPLE\") & (full_evs['item'] != \"AXE\") & \n",
    "                    (full_evs['item'] != \"BASKETBALL_HOOP\") & (full_evs['item'] != \"DOOR\") & (full_evs['item'] != \"IRONING_BOARD\") & \n",
    "                    (full_evs['item'] != \"SHOVEL\") & (full_evs['item'] != \"STOVE\")]"
   ]
  },
  {
   "cell_type": "code",
   "execution_count": 26,
   "id": "1edf6274-b21c-46bc-b244-9d968ee9246f",
   "metadata": {},
   "outputs": [],
   "source": [
    "with open(\"words.pkl\", \"rb\") as f:\n",
    "    wordpool = pickle.load(f)"
   ]
  },
  {
   "cell_type": "code",
   "execution_count": 27,
   "id": "c9b28832-b67b-48cb-ba31-f243f46ad53f",
   "metadata": {
    "tags": []
   },
   "outputs": [],
   "source": [
    "# # Remove/replace rows with NaN as itemno\n",
    "\n",
    "# # 1) Define which recall-of-word types to keep, then keep only what exists\n",
    "# rec_word_types_all = ['REC_WORD', 'REC_WORD_VV']\n",
    "# present_types = set(full_evs['type'].unique())\n",
    "# present_rec_types = [t for t in rec_word_types_all if t in present_types]\n",
    "\n",
    "# need_types = ['WORD'] + present_rec_types\n",
    "# clean_evs = full_evs[full_evs['type'].isin(need_types)].copy()\n",
    "\n",
    "# # 2) Normalize recall variants to 'REC_WORD' so your function can use a single rec_type\n",
    "# for t in present_rec_types:\n",
    "#     if t != 'REC_WORD':\n",
    "#         clean_evs.loc[clean_evs['type'] == t, 'type'] = 'REC_WORD'\n",
    "\n",
    "# # 3) Drop bad WORD rows; fill recall NaNs with sentinel 0\n",
    "# is_word = clean_evs['type'].eq('WORD')\n",
    "# is_rec  = clean_evs['type'].eq('REC_WORD')\n",
    "\n",
    "# dropped_word = (is_word & clean_evs['itemno'].isna()).sum()\n",
    "# temporal_evs = clean_evs[~(is_word & clean_evs['itemno'].isna())].copy()\n",
    "# filled_rec = temporal_evs.loc[is_rec, 'itemno'].isna().sum()\n",
    "# temporal_evs.loc[is_rec, 'itemno'] = temporal_evs.loc[is_rec, 'itemno'].fillna(0)\n",
    "\n",
    "# # 4) Safe to cast now\n",
    "# temporal_evs['itemno'] = temporal_evs['itemno'].astype('int64')\n",
    "# temporal_evs"
   ]
  },
  {
   "cell_type": "code",
   "execution_count": 28,
   "id": "8f3e193a-3a97-4c00-ac5e-3edccafbaf7f",
   "metadata": {},
   "outputs": [],
   "source": [
    "def compute_recall_rate(data):\n",
    "    word_evs = data[data['type'] == 'WORD']\n",
    "    return word_evs['recalled'].sum() / len(word_evs)\n",
    "\n",
    "def compute_first_recall(data, list_length):\n",
    "    rec_evs = data[data['type'] == 'REC_WORD']\n",
    "    rec_evs['pos'] = rec_evs.groupby(['session', 'trial']).cumcount()\n",
    "    first_recall_df = rec_evs.query('pos == 0 and serialpos >= 0')\n",
    "    first_recall_df = first_recall_df.groupby(\n",
    "        ['serialpos']).agg(\n",
    "        {'recalled': 'count'}).reindex(range(1, list_length+1), fill_value=0)\n",
    "    n_lists = first_recall_df['recalled'].sum()\n",
    "    return first_recall_df['recalled'].to_numpy(dtype=float) / n_lists\n",
    "\n",
    "# not finalized; there is an error somewhere since the resulting array is filled with nan values\n",
    "def compute_lag_crp(data, list_length, itemno_column='itemno', list_index=['subject', 'session', 'trial'], \n",
    "                    pres_type='WORD', rec_type='REC_WORD', type_column='type', max_lag=None):\n",
    "    if max_lag is None:\n",
    "        lag_num = list_length - 1\n",
    "    else:\n",
    "        lag_num = min(list_length - 1, int(max_lag))\n",
    "    \n",
    "    crp_df = pd_crp(\n",
    "        data,\n",
    "        lag_num=lag_num,\n",
    "        itemno_column=itemno_column,\n",
    "        list_index=list_index,\n",
    "        pres_type=pres_type,\n",
    "        rec_type=rec_type,\n",
    "        type_column=type_column\n",
    "    )\n",
    "    \n",
    "    full_length = 2 * list_length - 1\n",
    "    crp_arr = np.zeros(full_length, dtype=float)\n",
    "    center = list_length - 1\n",
    "    print(center)\n",
    "    \n",
    "    for lag, p in zip(crp_df['lag'].to_numpy(), crp_df['prob'].to_numpy()):\n",
    "        idx = center + int(lag)\n",
    "        if 0 <= idx < full_length:\n",
    "            crp_arr[idx] = float(p)\n",
    "\n",
    "    crp_arr[center] = 0.0\n",
    "    return crp_arr"
   ]
  },
  {
   "cell_type": "code",
   "execution_count": 80,
   "id": "c6178ede-f299-4b99-99ca-8821287b927d",
   "metadata": {},
   "outputs": [],
   "source": [
    "def compute_lag_crp_single_subject_array(\n",
    "    data, \n",
    "    list_len\n",
    "):\n",
    "    center = list_len - 1\n",
    "    min_lag = -center\n",
    "    max_lag = center + 1\n",
    "    actual = {lag: 0 for lag in range(min_lag, max_lag)}\n",
    "    possible = {lag: 0 for lag in range(min_lag, max_lag)}\n",
    "    for session_id, session_data in data.groupby('session'):\n",
    "        recalls = session_data[session_data.type == 'REC_WORD']\n",
    "        # print(recalls)\n",
    "        words = session_data[session_data.type == 'WORD']\n",
    "        if recalls.empty or words.empty:\n",
    "            print(f\"session {session_id} has no events\")\n",
    "            continue\n",
    "        # print(recalls.intruded)\n",
    "        recalls = recalls[(recalls['trial'] != -999)]\n",
    "        word_to_pos = dict(zip(words['item'], words['serialpos']))\n",
    "        # print(word_to_pos)\n",
    "        # print(recalls)\n",
    "        for trial in recalls['trial'].unique():\n",
    "            trial_words = words[words['trial'] == trial]['item'].tolist()\n",
    "            trial_recalls = (recalls[recalls['trial'] == trial]\n",
    "                             .sort_values('rectime')\n",
    "                             .drop_duplicates('item'))\n",
    "            \n",
    "            if len(trial_recalls) < 2:\n",
    "                print(f\"session {session_id}, trial {trial} doesn't have enough events\")\n",
    "                continue\n",
    "            trial_recalls = trial_recalls[trial_recalls['item'].isin(trial_words)]\n",
    "            recall_pos = [word_to_pos[w] for w in trial_recalls['item']]\n",
    "            # print(recall_pos)\n",
    "            for i, cur in enumerate(recall_pos[:-1]):\n",
    "                lag = recall_pos[i+1] - cur\n",
    "                if min_lag <= lag <= max_lag and lag != 0:\n",
    "                    actual[lag] += 1\n",
    "                for pos in set(range(1, list_len+1)) - set(recall_pos[:i+1]):\n",
    "                    pl = pos - cur\n",
    "                    if min_lag <= pl <= max_lag and pl != 0:\n",
    "                        possible[pl] += 1\n",
    "\n",
    "    # build CRP array\n",
    "    full_len = 2*list_len - 1\n",
    "    crp = np.full(full_len, np.nan)\n",
    "    center = list_len - 1\n",
    "    for lag in range(min_lag, max_lag):\n",
    "        idx = center + lag\n",
    "        if 0 <= idx < full_len:\n",
    "            crp[idx] = (actual[lag] / possible[lag]) if possible[lag] > 0 else np.nan\n",
    "    crp[center] = 0.0\n",
    "    return crp\n"
   ]
  },
  {
   "cell_type": "code",
   "execution_count": 82,
   "id": "84f4e613-42e8-4bc1-bb36-0d2d0022f6cf",
   "metadata": {
    "tags": []
   },
   "outputs": [],
   "source": [
    "# testing functions\n",
    "df595 = full_evs[full_evs['subject'] == 'LTP595']\n",
    "# compute_recall_rate(df595)\n",
    "# compute_first_recall(df595, list_len)\n",
    "crp = compute_lag_crp_single_subject_array(df595, list_len)"
   ]
  },
  {
   "cell_type": "code",
   "execution_count": 85,
   "id": "e347d913-426a-441a-9444-62efc8b9323d",
   "metadata": {},
   "outputs": [
    {
     "data": {
      "text/plain": [
       "array([0.06382979, 0.05882353, 0.04424779, 0.02898551, 0.06470588,\n",
       "       0.04102564, 0.05479452, 0.04979253, 0.07806691, 0.04895105,\n",
       "       0.06644518, 0.08196721, 0.14195584, 0.3250774 , 0.        ,\n",
       "       0.45721271, 0.20478723, 0.10670732, 0.06713781, 0.06477733,\n",
       "       0.06161137, 0.0483871 , 0.03870968, 0.02459016, 0.04081633,\n",
       "       0.05263158, 0.04081633, 0.        , 0.        ])"
      ]
     },
     "execution_count": 85,
     "metadata": {},
     "output_type": "execute_result"
    }
   ],
   "source": [
    "crp"
   ]
  },
  {
   "cell_type": "code",
   "execution_count": 53,
   "id": "63fad043-ccdc-49d6-bd4e-d9718c3369b3",
   "metadata": {},
   "outputs": [
    {
     "data": {
      "text/plain": [
       "152417    False\n",
       "152418    False\n",
       "152419    False\n",
       "152420    False\n",
       "152421    False\n",
       "          ...  \n",
       "158457    False\n",
       "158458     True\n",
       "158459     True\n",
       "158460    False\n",
       "158461    False\n",
       "Name: type, Length: 5721, dtype: bool"
      ]
     },
     "execution_count": 53,
     "metadata": {},
     "output_type": "execute_result"
    }
   ],
   "source": [
    "df595.type == 'REC_WORD'"
   ]
  },
  {
   "cell_type": "code",
   "execution_count": null,
   "id": "c8b2b276-6a8d-42be-a395-3fd3c5987f21",
   "metadata": {},
   "outputs": [],
   "source": [
    "sub_parameters = {}\n",
    "\n",
    "for sub in subjects:\n",
    "    df_sub = full_evs[full_evs['subject'] == sub]\n",
    "    recall_rate = compute_recall_rate(df_sub)\n",
    "    first_recall = compute_first_recall(df_sub, list_len)\n",
    "    lag_crp = compute_lag_crp(df_sub, list_len)\n",
    "    sub_parameters[sub] = {\n",
    "        'recall_rate': recall_rate,\n",
    "        'first_recall': first_recall,\n",
    "        'lag_crp': lag_crp\n",
    "    }\n",
    "    \n",
    "sub_parameters"
   ]
  },
  {
   "cell_type": "code",
   "execution_count": null,
   "id": "dbc0aba9-7743-4c1f-8483-b09feddd0853",
   "metadata": {},
   "outputs": [],
   "source": []
  }
 ],
 "metadata": {
  "kernelspec": {
   "display_name": "workshop_311",
   "language": "python",
   "name": "workshop_311"
  },
  "language_info": {
   "codemirror_mode": {
    "name": "ipython",
    "version": 3
   },
   "file_extension": ".py",
   "mimetype": "text/x-python",
   "name": "python",
   "nbconvert_exporter": "python",
   "pygments_lexer": "ipython3",
   "version": "3.11.5"
  }
 },
 "nbformat": 4,
 "nbformat_minor": 5
}
